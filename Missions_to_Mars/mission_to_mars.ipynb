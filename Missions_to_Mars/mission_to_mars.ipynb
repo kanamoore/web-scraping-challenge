{
 "cells": [
  {
   "cell_type": "code",
   "execution_count": null,
   "metadata": {},
   "outputs": [],
   "source": [
    "import pandas as pd\n",
    "from splinter import Browser\n",
    "from bs4 import BeautifulSoup\n",
    "import time\n",
    "import requests"
   ]
  },
  {
   "cell_type": "code",
   "execution_count": null,
   "metadata": {},
   "outputs": [],
   "source": [
    "# Set up executable path\n",
    "executable_path = {\"executable_path\": \"chromedriver\"}\n",
    "browser = Browser(\"chrome\", **executable_path, headless=False)"
   ]
  },
  {
   "cell_type": "markdown",
   "metadata": {},
   "source": [
    "# NASA Mars News"
   ]
  },
  {
   "cell_type": "code",
   "execution_count": null,
   "metadata": {},
   "outputs": [],
   "source": [
    "# Set up url\n",
    "nasa_url = \"https://mars.nasa.gov/news/\"\n",
    "browser.visit(nasa_url)"
   ]
  },
  {
   "cell_type": "code",
   "execution_count": null,
   "metadata": {},
   "outputs": [],
   "source": [
    "# Scrape html and fine item list\n",
    "nasa_html = browser.html\n",
    "nasa_soup = BeautifulSoup(nasa_html, \"html.parser\")\n",
    "nasa_results = nasa_soup.find(\"ul\", class_=\"item_list\")"
   ]
  },
  {
   "cell_type": "code",
   "execution_count": null,
   "metadata": {},
   "outputs": [],
   "source": [
    "# Scrape the NASA Mars News Site and collect the latest News Title and Paragraph Text. \n",
    "news_title = nasa_results.find(\"div\", class_=\"content_title\").text\n",
    "news_p = nasa_results.find(\"div\", class_=\"article_teaser_body\").text\n",
    "\n",
    "print(news_title)\n",
    "print(news_p)"
   ]
  },
  {
   "cell_type": "markdown",
   "metadata": {},
   "source": [
    "# JPL Mars Space Images - Featured Image"
   ]
  },
  {
   "cell_type": "code",
   "execution_count": null,
   "metadata": {},
   "outputs": [],
   "source": [
    "# Set up url\n",
    "jpl_url = \"https://www.jpl.nasa.gov/spaceimages/?search=&category=Mars\"\n",
    "jpl_url_root = jpl_url.split('/spaceimages')[0]\n",
    "browser.visit(jpl_url)"
   ]
  },
  {
   "cell_type": "code",
   "execution_count": null,
   "metadata": {},
   "outputs": [],
   "source": [
    "# Click full image and more info to get image url\n",
    "browser.click_link_by_partial_text('FULL')\n",
    "time.sleep(5)\n",
    "browser.click_link_by_partial_text('more info')"
   ]
  },
  {
   "cell_type": "code",
   "execution_count": null,
   "metadata": {},
   "outputs": [],
   "source": [
    "# Find figure to retrieve section that has image url\n",
    "jpl_html = browser.html\n",
    "jpl_soup = BeautifulSoup(jpl_html, \"html.parser\")\n",
    "jpl_img_result = jpl_soup.find(\"figure\", class_=\"lede\")\n",
    "jpl_img_result"
   ]
  },
  {
   "cell_type": "code",
   "execution_count": null,
   "metadata": {},
   "outputs": [],
   "source": [
    "# Find the image url to the full size .jpg image\n",
    "featured_image_url = jpl_url_root + jpl_img_result.a[\"href\"]\n",
    "featured_image_url"
   ]
  },
  {
   "cell_type": "code",
   "execution_count": null,
   "metadata": {},
   "outputs": [],
   "source": [
    "## If there is an error, use this intead ##\n",
    "# jpl_url = \"https://www.jpl.nasa.gov/spaceimages/?search=&category=Mars\"\n",
    "# jpl_url_root = url.split('/spaceimages')[0]\n",
    "# browser.visit(jpl_url)\n",
    "# html = browser.html\n",
    "# soup = BeautifulSoup(html, \"html.parser\")\n",
    "# result = soup.find(\"a\", class_=\"button fancybox\")\n",
    "# # Visit the url for JPL Featured Space Image here.\n",
    "# results = soup.find(\"a\", class_=\"button fancybox\")\n",
    "# img_url = url_root + results[\"data-link\"]\n",
    "# # browser.visit(img_url)\n",
    "# Find the image url to the full size .jpg image\n",
    "# html = browser.html\n",
    "# soup = BeautifulSoup(html, \"html.parser\")\n",
    "# img_result = soup.find(\"figure\", class_=\"lede\")\n",
    "# featured_image_url = url_root + img_result.a[\"href\"]\n",
    "# featured_image_url"
   ]
  },
  {
   "cell_type": "markdown",
   "metadata": {},
   "source": [
    "# Mars Weather"
   ]
  },
  {
   "cell_type": "code",
   "execution_count": null,
   "metadata": {},
   "outputs": [],
   "source": [
    "# Set up url and scrape latest tweets\n",
    "twitter_url = \"https://twitter.com/marswxreport?lang=en\"\n",
    "twitter_response = requests.get(twitter_url)\n",
    "soup_twitter = BeautifulSoup(twitter_response.text, \"html.parser\")\n",
    "tweets = soup_twitter.find_all('div', class_='js-tweet-text-container')"
   ]
  },
  {
   "cell_type": "code",
   "execution_count": null,
   "metadata": {},
   "outputs": [],
   "source": [
    "# Retrive tweets with weather information. Remove picture in the end\n",
    "for tweet in tweets:\n",
    "    mars_weather = tweet.find('p').text\n",
    "    if 'sol' in mars_weather:\n",
    "        mars_weather_tweet = mars_weather.split(\"pic.twitter\")[0]\n",
    "        print(mars_weather_tweet)\n",
    "        break\n",
    "    else:\n",
    "        pass"
   ]
  },
  {
   "cell_type": "markdown",
   "metadata": {},
   "source": [
    "# Mars Facts"
   ]
  },
  {
   "cell_type": "code",
   "execution_count": null,
   "metadata": {},
   "outputs": [],
   "source": [
    "# Visit the Mars Facts webpage and use Pandas to scrape the table containing facts about the planet including Diameter, Mass, etc.\n",
    "facts_url = \"https://space-facts.com/mars/\"\n",
    "facts_df = pd.read_html(facts_url)[1].set_index(\"Mars - Earth Comparison\")\n",
    "facts_df"
   ]
  },
  {
   "cell_type": "code",
   "execution_count": null,
   "metadata": {},
   "outputs": [],
   "source": [
    "# Use Pandas to convert the data to a HTML table string.\n",
    "html_table = facts_df.to_html()\n",
    "html_table"
   ]
  },
  {
   "cell_type": "code",
   "execution_count": null,
   "metadata": {},
   "outputs": [],
   "source": [
    "# Strip newlines\n",
    "html_table.replace(\"\\n\",\"\")"
   ]
  },
  {
   "cell_type": "code",
   "execution_count": null,
   "metadata": {},
   "outputs": [],
   "source": [
    "# Save html table\n",
    "facts_df.to_html('table_v2.html')"
   ]
  },
  {
   "cell_type": "markdown",
   "metadata": {},
   "source": [
    "# Mars Hemispheres"
   ]
  },
  {
   "cell_type": "code",
   "execution_count": null,
   "metadata": {},
   "outputs": [],
   "source": [
    "# Visit the USGS Astrogeology site \n",
    "h_url = \"https://astrogeology.usgs.gov/search/results?q=hemisphere+enhanced&k1=target&v1=Mars\"\n",
    "h_url_root = h_url.split('/search')[0]\n",
    "browser.visit(h_url)"
   ]
  },
  {
   "cell_type": "code",
   "execution_count": null,
   "metadata": {
    "scrolled": true
   },
   "outputs": [],
   "source": [
    "# Scrape the site and visit each hemisphere page\n",
    "title_list = []\n",
    "url_list = []\n",
    "    \n",
    "for result in range(1):\n",
    "    h_html = browser.html\n",
    "    h_soup = BeautifulSoup(h_html, \"html.parser\")\n",
    "    h_results = h_soup.find_all(\"div\", class_=\"item\")\n",
    "    \n",
    "    # Get url for each hemisphere\n",
    "    for item in h_results:\n",
    "        item_url = item.a[\"href\"]\n",
    "        item_full_url = h_url_root + item_url\n",
    "        url_list.append(item_full_url)\n",
    "        title = item.find(\"h3\").text\n",
    "        title_list.append(title)\n",
    "        \n",
    "title_list"
   ]
  },
  {
   "cell_type": "code",
   "execution_count": null,
   "metadata": {},
   "outputs": [],
   "source": [
    "# Get image url from each page and create url list\n",
    "url_dict_list = []\n",
    "\n",
    "for item_url in url_list:\n",
    "    browser.visit(item_url)\n",
    "    html = browser.html\n",
    "    soup = BeautifulSoup(html, \"html.parser\")\n",
    "    img_path = soup.select_one(\"ul\")\n",
    "    image_url = img_path.a[\"href\"]\n",
    "    url_dict_list.append(image_url)\n",
    "    \n",
    "url_dict_list"
   ]
  },
  {
   "cell_type": "code",
   "execution_count": null,
   "metadata": {},
   "outputs": [],
   "source": [
    "# Combine 2 lists to get one list of dictionaries\n",
    "hemisphere_image_urls = []\n",
    "\n",
    "for url,title in zip(url_dict_list,title_list):\n",
    "    hemisphere_image_dict = {}\n",
    "    hemisphere_image_dict[\"title\"] = title\n",
    "    hemisphere_image_dict[\"img_url\"] = url\n",
    "    hemisphere_image_urls.append(hemisphere_image_dict)\n",
    "print(hemisphere_image_urls)"
   ]
  },
  {
   "cell_type": "code",
   "execution_count": 1,
   "metadata": {},
   "outputs": [
    {
     "name": "stderr",
     "output_type": "stream",
     "text": [
      "[NbConvertApp] Converting notebook mission_to_mars.ipynb to script\n",
      "[NbConvertApp] Writing 4917 bytes to mission_to_mars.py\n"
     ]
    }
   ],
   "source": [
    "!jupyter nbconvert --to script mission_to_mars.ipynb"
   ]
  },
  {
   "cell_type": "code",
   "execution_count": null,
   "metadata": {},
   "outputs": [],
   "source": []
  }
 ],
 "metadata": {
  "kernelspec": {
   "display_name": "Python 3",
   "language": "python",
   "name": "python3"
  },
  "language_info": {
   "codemirror_mode": {
    "name": "ipython",
    "version": 3
   },
   "file_extension": ".py",
   "mimetype": "text/x-python",
   "name": "python",
   "nbconvert_exporter": "python",
   "pygments_lexer": "ipython3",
   "version": "3.6.9"
  }
 },
 "nbformat": 4,
 "nbformat_minor": 2
}
